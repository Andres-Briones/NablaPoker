{
 "cells": [
  {
   "cell_type": "code",
   "execution_count": 9,
   "id": "542fc847",
   "metadata": {},
   "outputs": [],
   "source": [
    "import sqlite3\n",
    "def get_db_connection(db_path, timeout = 0):\n",
    "    \"\"\"Establishes and returns a database connection.\"\"\"\n",
    "    conn = sqlite3.connect(db_path, timeout=timeout)\n",
    "    conn.row_factory = lambda cursor, row: {col[0]: row[idx] for idx, col in enumerate(cursor.description)}\n",
    "    return conn\n"
   ]
  },
  {
   "cell_type": "code",
   "execution_count": 10,
   "id": "852ed30e",
   "metadata": {},
   "outputs": [],
   "source": [
    "db_path = \"../instance/database.db\""
   ]
  },
  {
   "cell_type": "code",
   "execution_count": 11,
   "id": "363e0c78",
   "metadata": {},
   "outputs": [
    {
     "name": "stdout",
     "output_type": "stream",
     "text": [
      "{'id': 1, 'username': 'Este', 'password': 'ban'}\n"
     ]
    }
   ],
   "source": [
    "with get_db_connection(db_path) as conn:\n",
    "    cur = conn.cursor()\n",
    "    cur.execute(\"SELECT * from users\")\n",
    "    users = cur.fetchall()\n",
    "for user in users:\n",
    "    print(user)"
   ]
  },
  {
   "cell_type": "code",
   "execution_count": null,
   "id": "95cb312d",
   "metadata": {},
   "outputs": [],
   "source": []
  }
 ],
 "metadata": {
  "kernelspec": {
   "display_name": "Python 3 (ipykernel)",
   "language": "python",
   "name": "python3"
  },
  "language_info": {
   "codemirror_mode": {
    "name": "ipython",
    "version": 3
   },
   "file_extension": ".py",
   "mimetype": "text/x-python",
   "name": "python",
   "nbconvert_exporter": "python",
   "pygments_lexer": "ipython3",
   "version": "3.11.2"
  }
 },
 "nbformat": 4,
 "nbformat_minor": 5
}
